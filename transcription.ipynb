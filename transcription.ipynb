{
 "cells": [
  {
   "cell_type": "code",
   "id": "initial_id",
   "metadata": {
    "collapsed": true,
    "ExecuteTime": {
     "end_time": "2025-10-03T10:34:36.664609Z",
     "start_time": "2025-10-03T10:34:36.655375Z"
    }
   },
   "source": [
    "from Bio import SeqIO\n",
    "from Bio.Seq import Seq"
   ],
   "outputs": [],
   "execution_count": 4
  },
  {
   "metadata": {},
   "cell_type": "markdown",
   "source": [
    "## Lector de archivos FASTA\n",
    "\n",
    "Para empezar con la práctica, se crea un código que sea capaz de leer archivos en formato FASTA. El archivo elegido es 'gene.fna', que contiene secuencias de nucleótidos del gen TP53, un gen muy estudiado ya que codifica la proteína p53, clave en la regulación del ciclo celular asociada a cáncer cuando presenta mutaciones."
   ],
   "id": "ddb7fe799505f81e"
  },
  {
   "metadata": {
    "ExecuteTime": {
     "end_time": "2025-10-03T10:34:38.835714Z",
     "start_time": "2025-10-03T10:34:38.728447Z"
    }
   },
   "cell_type": "code",
   "source": [
    "archivo = \"data/gene.fna\"\n",
    "\n",
    "secuencias = []\n",
    "\n",
    "for record in SeqIO.parse(archivo, \"fasta\"):\n",
    "    secuencias.append(record)\n",
    "\n",
    "print(f\"Secuencias leídas: {len(secuencias)}\")\n",
    "print(\"Primera secuencia: \")\n",
    "print(\"ID:\", secuencias[0].id)\n",
    "print(\"Longitud:\", len(secuencias[0].seq))"
   ],
   "id": "cf80638d9bb45603",
   "outputs": [
    {
     "name": "stdout",
     "output_type": "stream",
     "text": [
      "Secuencias leídas: 2\n",
      "Primera secuencia: \n",
      "ID: NC_000017.11:c7687490-7668421\n",
      "Longitud: 19070\n"
     ]
    }
   ],
   "execution_count": 5
  },
  {
   "metadata": {},
   "cell_type": "markdown",
   "source": [
    "Como se observa en los resultados, el archivo contiene dos secuencias, pero nos centraremos solo en la primera.\n",
    " "
   ],
   "id": "85b093b143bc154d"
  },
  {
   "metadata": {},
   "cell_type": "markdown",
   "source": [
    "## Transcripción\n",
    "\n",
    "Ahora, se crea la secuencia de ARNm de la primera secuencia de ADN mediante el proceso de *transcipción*. Para ello, se usa la función `transcribe` de `Biopython`, que asume la secuencia como si fuese la hebra codificante (5'→ 3') y simplemente convierte las T en U:"
   ],
   "id": "c5bfed3d3be5a7f"
  },
  {
   "metadata": {
    "ExecuteTime": {
     "end_time": "2025-10-03T10:34:40.770105Z",
     "start_time": "2025-10-03T10:34:40.755378Z"
    }
   },
   "cell_type": "code",
   "source": [
    "dna_seq = secuencias[0].seq\n",
    "mRNA_seq = dna_seq.transcribe()\n",
    "\n",
    "print(\"ADN:\", dna_seq[:50])\n",
    "print(\"ARNm:\", mRNA_seq[:50])"
   ],
   "id": "a8f56c1262c1e952",
   "outputs": [
    {
     "name": "stdout",
     "output_type": "stream",
     "text": [
      "ADN: CTCAAAAGTCTAGAGCCACCGTCCAGGGAGCAGGTAGCTGCTGGGCTCCG\n",
      "ARNm: CUCAAAAGUCUAGAGCCACCGUCCAGGGAGCAGGUAGCUGCUGGGCUCCG\n"
     ]
    }
   ],
   "execution_count": 6
  },
  {
   "metadata": {},
   "cell_type": "markdown",
   "source": [
    "## Transcripción con secuencia de clase\n",
    "\n",
    "Para este ejercicio, como se proporciona tanto la hebra molde como la codificante, se hará el código para ambas.\n",
    "\n",
    "### Código para hebra codificante"
   ],
   "id": "6d44f8200cbeee93"
  },
  {
   "metadata": {
    "ExecuteTime": {
     "end_time": "2025-10-03T10:40:24.806970Z",
     "start_time": "2025-10-03T10:40:24.797297Z"
    }
   },
   "cell_type": "code",
   "source": [
    "cod = Seq(\"ATGCCTGAATGC\")\n",
    "mRNA_seq = cod.transcribe()\n",
    "\n",
    "print(\"Hebra codificante: \", cod)\n",
    "print(\"ARNm:\", mRNA_seq)"
   ],
   "id": "38f11263a33f6eb5",
   "outputs": [
    {
     "name": "stdout",
     "output_type": "stream",
     "text": [
      "Hebra codificante:  ATGCCTGAATGC\n",
      "ARNm: AUGCCUGAAUGC\n"
     ]
    }
   ],
   "execution_count": 7
  },
  {
   "metadata": {},
   "cell_type": "markdown",
   "source": "### Codigo para hebra molde",
   "id": "b53dce528656885f"
  },
  {
   "metadata": {
    "ExecuteTime": {
     "end_time": "2025-10-02T10:51:04.872415Z",
     "start_time": "2025-10-02T10:51:04.860650Z"
    }
   },
   "cell_type": "code",
   "source": [
    "molde = Seq(\"TACGGACTTACG\")   \n",
    "molde_5to3 = molde[::-1]\n",
    "codificante = molde_5to3.reverse_complement()  \n",
    "arnm = codificante.transcribe()   \n",
    "\n",
    "print(\"Cadena molde (3'->5'):\", molde)\n",
    "print(\"Cadena molde (5'->3'):\", molde_5to3)\n",
    "print(\"Hebra codificante (5'->3'):\", codificante)\n",
    "print(\"ARNm (5'->3'):\", arnm)\n"
   ],
   "id": "3f63d90c6d4ec13c",
   "outputs": [
    {
     "name": "stdout",
     "output_type": "stream",
     "text": [
      "Cadena molde (3'->5'): TACGGACTTACG\n",
      "Cadena molde (5'->3'): GCATTCAGGCAT\n",
      "Hebra codificante (5'->3'): ATGCCTGAATGC\n",
      "ARNm (5'->3'): AUGCCUGAAUGC\n"
     ]
    }
   ],
   "execution_count": 12
  },
  {
   "metadata": {},
   "cell_type": "markdown",
   "source": [
    "Ya que `Biopython` no genera el ARNm a partir de la cadena molde, si se quisiera hacer así, primero hay que obtener la cadena complementaria.\n",
    "\n",
    "La cadena molde va en dirección 3' → 5', pero Biopython asume que la cadena que se le pasa siempre está en 5'→3', por lo que primero se debe cambiar la hebra molde de sentido.\n",
    "\n",
    "Luego, se obtiene la hebra complementaria a la molde mediante la función `complement` de `Biopython`. El resultado obtenido es la hebra codificante.\n",
    "\n",
    "Finalmente, se hace lo mismo que se hizo en el primer ejemplo (usar la función `transcribe`), obteniendo así la secuencia de ARNm,\n",
    "\n",
    "Comos se puede observar en los resultados obtenidos, la hebra de ARNm es la misma que se obtuvo en el ejercicio \"a mano\"."
   ],
   "id": "63285847071e5574"
  },
  {
   "metadata": {},
   "cell_type": "markdown",
   "source": [
    "## Experimentos\n",
    "\n",
    "Una ejercicio muy interesante es observar cómo cambia el resultado dependiendo de qué hebra se usa como punto de partida.\n",
    "\n",
    "Cuando se habla de replicación y transcripción, como se dijo antes, hay que tener muy clara la orientación:\n",
    "- La cadena molde (3'→5') sirve de plantilla para sintetizar el ARNm en dirección 5'→3'\n",
    "- La cadena codificante (5'→3') tiene la misma secuencia que el ARNm, pero con T en vez de U\n",
    "\n",
    "Si se invierte la hebra, o se toma la complementaria de la complementaria, se puede perder la orientación biológica correcta.\n",
    "\n",
    "A continuación, se lleva a cabo una serie de experimentos para comprobar todo esto:"
   ],
   "id": "5128a65b7ef0a022"
  },
  {
   "metadata": {},
   "cell_type": "markdown",
   "source": [
    "#### Transcripción directa del FASTA\n",
    "\n",
    "En este caso, se está asumiendo que el archivo FASTA trae la *hebra codificante en orientación 5'→3'*"
   ],
   "id": "fa31dc5fec1c724b"
  },
  {
   "metadata": {
    "ExecuteTime": {
     "end_time": "2025-10-02T16:21:00.866024Z",
     "start_time": "2025-10-02T16:21:00.824205Z"
    }
   },
   "cell_type": "code",
   "source": [
    "mRNA_seq = dna_seq[:50].transcribe()\n",
    "print(\"Original (asumida codificante):\", mRNA_seq)"
   ],
   "id": "c450002d13a9bdc8",
   "outputs": [
    {
     "name": "stdout",
     "output_type": "stream",
     "text": [
      "Original (asumida codificante): CUCAAAAGUCUAGAGCCACCGUCCAGGGAGCAGGUAGCUGCUGGGCUCCG\n"
     ]
    }
   ],
   "execution_count": 17
  },
  {
   "metadata": {},
   "cell_type": "markdown",
   "source": [
    "#### Usar la complementaria\n",
    "\n",
    "En este caso, se está construyendo la hebra complementaria de la que se tiene en el FASTA, por lo que se estaría obteniendo algo parecido a la cadena molde, pero no invertida.\n",
    "\n",
    "Si el FASTA contenía la molde, ahora se tendría algo parecido a la codificante, pero también mal orientada.\n",
    "\n",
    "El resultado de ARNm no tiene sentido biológico, porque el proceso real no funciona tomando la complementaria \"cruda\". El ARN polimerasa necesita leer la cadena molde en orientación 3'→5', por eso la hebra obtenida no tendría sentido."
   ],
   "id": "ed6f32699adbda81"
  },
  {
   "metadata": {
    "ExecuteTime": {
     "end_time": "2025-10-03T10:55:51.023227Z",
     "start_time": "2025-10-03T10:55:51.005660Z"
    }
   },
   "cell_type": "code",
   "source": [
    "mRNA_seq_from_complement = dna_seq.complement().transcribe()\n",
    "print(\"Complementaria:\", mRNA_seq_from_complement[:50])\n"
   ],
   "id": "cdd60478be922eb9",
   "outputs": [
    {
     "name": "stdout",
     "output_type": "stream",
     "text": [
      "Complementaria: GAGUUUUCAGAUCUCGGUGGCAGGUCCCUCGUCCAUCGACGACCCGAGGC\n"
     ]
    }
   ],
   "execution_count": 8
  },
  {
   "metadata": {},
   "cell_type": "markdown",
   "source": "#### Usar la reversa complementaria",
   "id": "2acfecf1db9e2e58"
  },
  {
   "metadata": {
    "ExecuteTime": {
     "end_time": "2025-10-03T10:56:16.860594Z",
     "start_time": "2025-10-03T10:56:16.844792Z"
    }
   },
   "cell_type": "code",
   "source": [
    "mRNA_seq_from_reverse = dna_seq.reverse_complement().transcribe()\n",
    "\n",
    "print(\"Reversa complementaria (molde):\", mRNA_seq_from_reverse[:50])\n"
   ],
   "id": "1ab8679a05c732f8",
   "outputs": [
    {
     "name": "stdout",
     "output_type": "stream",
     "text": [
      "Reversa complementaria (molde): UGGCAGCAAAGUUUUAUUGUAAAAUAAGAGAUCGAUAUAAAAAUGGGAUA\n"
     ]
    }
   ],
   "execution_count": 9
  },
  {
   "metadata": {},
   "cell_type": "markdown",
   "source": [
    "Lo que está pasando aquí es que, cuando se utiliza la función `reverse_complement()` en Biopython, se obtiene la hebra complementaria pero invertida, es decir, en orientación 3'→5'. Esto simula la hebra molde real que emplea la ARN polimerasa durante la transcripción.\n",
    "\n",
    "Al aplicar después `.transcribe()`, se genera el ARNm en dirección 5'→3', que corresponde a la secuencia biológicamente correcta. De este modo, si el archivo FASTA contiene la hebra codificante, obtener su reversa complementaria equivale a recuperar la hebra molde y, al transcribirla, se produce el ARNm tal como ocurre en la célula."
   ],
   "id": "58ec420f235bae7a"
  }
 ],
 "metadata": {
  "kernelspec": {
   "display_name": "Python 3",
   "language": "python",
   "name": "python3"
  },
  "language_info": {
   "codemirror_mode": {
    "name": "ipython",
    "version": 2
   },
   "file_extension": ".py",
   "mimetype": "text/x-python",
   "name": "python",
   "nbconvert_exporter": "python",
   "pygments_lexer": "ipython2",
   "version": "2.7.6"
  }
 },
 "nbformat": 4,
 "nbformat_minor": 5
}
