{
 "cells": [
  {
   "cell_type": "code",
   "id": "initial_id",
   "metadata": {
    "collapsed": true,
    "ExecuteTime": {
     "end_time": "2025-10-02T16:08:22.537889Z",
     "start_time": "2025-10-02T16:08:22.477042Z"
    }
   },
   "source": "from Bio.Seq import Seq",
   "outputs": [],
   "execution_count": 1
  },
  {
   "metadata": {},
   "cell_type": "markdown",
   "source": [
    "# Replicación\n",
    "\n",
    "La replicación del ADN consiste en crear una nueva secuencia de ADN exactamente igual a la original. \n",
    "\n",
    "En el ADN siempre existen dos hebras complementarias, unidas por el emparejamiento de bases:\n",
    "- La adenina (*A*) con la timina (*T*)\n",
    "- La citosina (*C*) con la guanina (*G*)\n",
    "\n",
    "Esto significa que, si tenemos una hebra, podemos construir la otra simplemente sustituyendo cada base por su pareja.\n",
    "\n",
    "Para generar automáticamente la hebra complementaria de una secuencia de adn dada, se ha usado la librería `Biopython`, que tiene funciones que facilitan este trabajo. \n"
   ],
   "id": "f67263d412fdf7e1"
  },
  {
   "metadata": {
    "ExecuteTime": {
     "end_time": "2025-10-02T16:12:25.626613Z",
     "start_time": "2025-10-02T16:12:25.619238Z"
    }
   },
   "cell_type": "code",
   "source": [
    "adn = Seq(\"ATGCCGTTAGCT\")\n",
    "\n",
    "complementario = adn.complement()\n",
    "reversa_complementario = adn.reverse_complement()\n",
    "\n",
    "print(\"Hebra original (5' -> 3'):\", adn)\n",
    "print(\"Hebra complementaria (3' -> 5'):\", complementario)\n",
    "print(\"Reversa complementaria (5'-> 3'):\", reversa_complementario)"
   ],
   "id": "d5bc2348fff4ddff",
   "outputs": [
    {
     "name": "stdout",
     "output_type": "stream",
     "text": [
      "Hebra original (5' -> 3'): ATGCCGTTAGCT\n",
      "Hebra complementaria (3' -> 5'): TACGGCAATCGA\n",
      "Reversa complementaria (5'-> 3'): AGCTAACGGCAT\n"
     ]
    }
   ],
   "execution_count": 2
  },
  {
   "metadata": {},
   "cell_type": "markdown",
   "source": [
    "Primero, se define la secuencia de adn en la varibale `adn`, que en este caso es la misma que se usó en el ejercicio. Esta hebra está en dirección 5' → 3'. \n",
    "\n",
    "Luego, se genenera la hebra complementaria directa (`adn.complement()`), que se devuelve en dirección 3' → 5' al ser la pareja de la hebra original.\n",
    "\n",
    "Finalmente, se invierte la hebra complementaria (`adn.reverse_complement()`) para que quede también en dirección 5' → 3', ya que es la forma más común de representación y la que se usa al escribir secuencias.\n",
    "\n",
    "Los resultados con la secuencia `ATGCCGTTAGCT` fueron:\n",
    "- *Hebra original (5' → 3'):* `ATGCCGTTAGCT`\n",
    "- *Complementaria (3' → 5'):* `TACGGCAATCGA`\n",
    "- *Reversa complementaria (5' → 3'):* `AGCTAACGGCAT`\n",
    "\n",
    "Esto coinicide con los resultados obtenidos en el ejercicio hecho a mano, donde la helicasa abre la molécula y cada hebra sirve como molde para formar una nueva. Así se confirma que el código replica exactamente el mismo proceso que ocurre en la replicación real del ADN."
   ],
   "id": "2028c1aec5564cec"
  }
 ],
 "metadata": {
  "kernelspec": {
   "display_name": "Python 3",
   "language": "python",
   "name": "python3"
  },
  "language_info": {
   "codemirror_mode": {
    "name": "ipython",
    "version": 2
   },
   "file_extension": ".py",
   "mimetype": "text/x-python",
   "name": "python",
   "nbconvert_exporter": "python",
   "pygments_lexer": "ipython2",
   "version": "2.7.6"
  }
 },
 "nbformat": 4,
 "nbformat_minor": 5
}
