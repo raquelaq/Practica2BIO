{
 "cells": [
  {
   "cell_type": "code",
   "id": "initial_id",
   "metadata": {
    "collapsed": true,
    "ExecuteTime": {
     "end_time": "2025-10-02T11:03:18.731540Z",
     "start_time": "2025-10-02T11:03:18.723831Z"
    }
   },
   "source": "from Bio.Seq import Seq",
   "outputs": [],
   "execution_count": 2
  },
  {
   "metadata": {},
   "cell_type": "markdown",
   "source": [
    "## Traducción\n",
    "\n",
    "El proceso de traducción en `Biopython` es tan sencillo como definir una secuencia de ARNm con la función `Seq`, y obtener  su secuencia de aminoácidos corresponiente con la función `translate()`:"
   ],
   "id": "f2766f8a2070b1bd"
  },
  {
   "metadata": {
    "ExecuteTime": {
     "end_time": "2025-10-02T11:03:20.300139Z",
     "start_time": "2025-10-02T11:03:20.288723Z"
    }
   },
   "cell_type": "code",
   "source": [
    "s_arnm = Seq(\"AUGUAUGCUUAA\")\n",
    "proteina = s_arnm.translate()\n",
    "\n",
    "print(\"Proteína:\", proteina)"
   ],
   "id": "a75698a9217e1f6b",
   "outputs": [
    {
     "name": "stdout",
     "output_type": "stream",
     "text": [
      "Proteína: MYA*\n"
     ]
    }
   ],
   "execution_count": 3
  },
  {
   "metadata": {},
   "cell_type": "markdown",
   "source": [
    "Cuando se hace la traducción, `Biopython` traduce su cada codón a su abreviatura de una sola letra. \n",
    "\n",
    "El resultado obtenido a mano fue: *Met-Tyr-Ala* que, abreviado, corresponde a MYA*, por lo que ambos resultados son correctos."
   ],
   "id": "5ce5b0cefc881aed"
  }
 ],
 "metadata": {
  "kernelspec": {
   "display_name": "Python 3",
   "language": "python",
   "name": "python3"
  },
  "language_info": {
   "codemirror_mode": {
    "name": "ipython",
    "version": 2
   },
   "file_extension": ".py",
   "mimetype": "text/x-python",
   "name": "python",
   "nbconvert_exporter": "python",
   "pygments_lexer": "ipython2",
   "version": "2.7.6"
  }
 },
 "nbformat": 4,
 "nbformat_minor": 5
}
