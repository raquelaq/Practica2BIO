{
 "cells": [
  {
   "metadata": {},
   "cell_type": "code",
   "outputs": [],
   "execution_count": null,
   "source": "from Bio import Entrez, SeqIO",
   "id": "7156fc87b8706ac9"
  },
  {
   "metadata": {},
   "cell_type": "markdown",
   "source": [
    "# Splicing Alternativo\n",
    "\n",
    "Para comprobar la existencia de diferentes transcritos del gen FGFR2 en humanos, se ha utilizado la librería Biopython para conectarse a bases de datos biológicas como Entrez (NCBI) y extraer información genética de forma automatizada.\n",
    "\n",
    "En este caso, se realiza una búsqueda del gen FGFR2 en la base de datos de nucleótidos, recuperando algunas de las secuencias anotadas y mostrando información relevante sobre cada una, como su identificador, descripción, longitud y productos codificados.\n",
    "\n",
    "Con este proceso se visualizará cómo un mismo gen puede presentar múltiples variantes de ARNm, conocidas como isoformas, que se originan por splicing alternativo y dan lugar a proteínas con pequeñas diferencias estructurales y funcionales."
   ],
   "id": "de28c607e1299adf"
  },
  {
   "cell_type": "code",
   "id": "initial_id",
   "metadata": {
    "collapsed": true,
    "ExecuteTime": {
     "end_time": "2025-10-11T16:18:19.631001Z",
     "start_time": "2025-10-11T16:18:10.948158Z"
    }
   },
   "source": [
    "Entrez.email = \"correo_ejemplo@ulpgc.es\"\n",
    "\n",
    "handle = Entrez.esearch(db=\"nucleotide\", term=\"FGFR2[Gene] AND Homo sapiens[Organism]\")\n",
    "record = Entrez.read(handle)\n",
    "ids = record[\"IdList\"]\n",
    "\n",
    "for seq_id in ids[:3]:  \n",
    "    handle = Entrez.efetch(db=\"nucleotide\", id=seq_id, rettype=\"gb\", retmode=\"text\")\n",
    "    seq_record = SeqIO.read(handle, \"genbank\")\n",
    "    print(\"ID:\", seq_record.id)\n",
    "    print(\"Descripción:\", seq_record.description)\n",
    "    print(\"Longitud:\", len(seq_record.seq))\n",
    "    print(\"Features:\")\n",
    "    for feature in seq_record.features:\n",
    "        if feature.type == \"CDS\":\n",
    "            print(\" - Producto:\", feature.qualifiers.get(\"product\", [\"N/A\"])[0])\n",
    "    print(\"-\" * 50)\n"
   ],
   "outputs": [
    {
     "name": "stdout",
     "output_type": "stream",
     "text": [
      "ID: NC_060934.1\n",
      "Descripción: Homo sapiens isolate CHM13 chromosome 10, alternate assembly T2T-CHM13v2.0\n",
      "Longitud: 134758134\n",
      "Features:\n",
      "--------------------------------------------------\n",
      "ID: NC_000010.11\n",
      "Descripción: Homo sapiens chromosome 10, GRCh38.p14 Primary Assembly\n",
      "Longitud: 133797422\n",
      "Features:\n",
      "--------------------------------------------------\n",
      "ID: XM_054365172.1\n",
      "Descripción: PREDICTED: Homo sapiens fibroblast growth factor receptor 2 (FGFR2), transcript variant X9, mRNA\n",
      "Longitud: 4298\n",
      "Features:\n",
      " - Producto: fibroblast growth factor receptor 2 isoform X9\n",
      "--------------------------------------------------\n"
     ]
    }
   ],
   "execution_count": 3
  },
  {
   "metadata": {},
   "cell_type": "markdown",
   "source": [
    "En la salida obtenida, las primeras dos entradas corresponden al cromosoma 10 humano, donde se localiza el gen FGFR2.\n",
    "Sin embargo, la tercera entrada (XM_054365172.1) muestra un transcrito específico anotado como “fibroblast growth factor receptor 2, transcript variant X9, mRNA”.\n",
    "La designación “variant X9” indica que existen múltiples versiones del ARNm para este gen (por ejemplo, X1, X2, X3…), lo que confirma que FGFR2 presenta diversas isoformas generadas por splicing alternativo.\n",
    "\n",
    "Estas variantes dan lugar a proteínas ligeramente diferentes, coincidiendo con lo descrito para las isoformas FGFR2-IIIb y FGFR2-IIIc en la base de datos Ensembl."
   ],
   "id": "59d466e1e85e31c4"
  }
 ],
 "metadata": {
  "kernelspec": {
   "display_name": "Python 3",
   "language": "python",
   "name": "python3"
  },
  "language_info": {
   "codemirror_mode": {
    "name": "ipython",
    "version": 2
   },
   "file_extension": ".py",
   "mimetype": "text/x-python",
   "name": "python",
   "nbconvert_exporter": "python",
   "pygments_lexer": "ipython2",
   "version": "2.7.6"
  }
 },
 "nbformat": 4,
 "nbformat_minor": 5
}
